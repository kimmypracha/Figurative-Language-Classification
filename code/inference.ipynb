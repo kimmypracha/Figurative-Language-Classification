{
 "cells": [
  {
   "cell_type": "code",
   "execution_count": 13,
   "metadata": {},
   "outputs": [],
   "source": [
    "from datasets import load_dataset\n",
    "from evaluate import evaluator\n",
    "import torch\n",
    "from torch.optim import AdamW\n",
    "from transformers import AutoModelForSequenceClassification, AutoTokenizer, Trainer, TrainingArguments\n",
    "from torch.utils.data import Dataset\n",
    "import pandas as pd\n",
    "from sklearn import metrics\n",
    "import numpy as np\n",
    "import torch.nn.functional as F\n",
    "from datasets import load_metric\n",
    "import wandb\n",
    "import os\n",
    "import scipy\n",
    "from transformers.utils.logging import set_verbosity_error\n",
    "import matplotlib.pyplot as plt"
   ]
  },
  {
   "cell_type": "code",
   "execution_count": 2,
   "metadata": {},
   "outputs": [
    {
     "data": {
      "text/plain": [
       "'cuda'"
      ]
     },
     "execution_count": 2,
     "metadata": {},
     "output_type": "execute_result"
    }
   ],
   "source": [
    "device = \"cuda\" if torch.cuda.is_available() else \"cpu\"\n",
    "device"
   ]
  },
  {
   "cell_type": "code",
   "execution_count": 3,
   "metadata": {},
   "outputs": [],
   "source": [
    "class TrainDataset(Dataset):\n",
    "  def __init__(self, filename=None, df=None, tokenizer=None):\n",
    "    super().__init__()\n",
    "    if filename:\n",
    "      self.df = pd.read_csv(filename, sep=\"\\t\")\n",
    "    else:\n",
    "      self.df = df\n",
    "    self.encoding = tokenizer(self.df[\"text\"].values.tolist(), truncation=True, padding=True, return_tensors=\"pt\")\n",
    "  def __len__(self):\n",
    "    return len(self.df)\n",
    "  def __getitem__(self, index):\n",
    "    label = 1 if self.df[\"label\"].iloc[index] == \"MOS\" else 0\n",
    "    return {\"input_ids\": self.encoding[\"input_ids\"][index], \"attention_mask\" : self.encoding[\"attention_mask\"][index], \"label\" : label}\n",
    "  def getlabels(self):\n",
    "    return np.array([1 if label == \"MOS\" else 0 for label in self.df[\"label\"].values])\n",
    "  def getDataFrame(self):\n",
    "    return self.df\n",
    "\n",
    "class TestDataset(Dataset):\n",
    "  def __init__(self, filename=None, df=None, tokenizer=None):\n",
    "    super().__init__()\n",
    "    if filename:\n",
    "      self.df = pd.read_csv(filename, sep=\"\\t\")\n",
    "    else:\n",
    "      self.df = df\n",
    "    self.encoding = tokenizer(self.df[\"text\"].values.tolist(), truncation=True, padding=True, return_tensors=\"pt\")\n",
    "  def __len__(self):\n",
    "    return len(self.df)\n",
    "  def __getitem__(self, index):\n",
    "    return {\"input_ids\": self.encoding[\"input_ids\"][index], \"attention_mask\" : self.encoding[\"attention_mask\"][index]}\n",
    "  def getlabels(self):\n",
    "    return np.array([1 if label == \"MOS\" else 0 for label in self.df[\"label\"].values])\n",
    "  def getDataFrame(self):\n",
    "    return self.df"
   ]
  },
  {
   "cell_type": "code",
   "execution_count": 4,
   "metadata": {},
   "outputs": [],
   "source": [
    "def compute_metrics_fn(eval_preds):\n",
    "        metrics_data = dict()\n",
    "        \n",
    "        accuracy_metric = load_metric('accuracy')\n",
    "        precision_metric = load_metric('precision')\n",
    "        recall_metric = load_metric('recall')\n",
    "        f1_metric = load_metric('f1')\n",
    "\n",
    "\n",
    "        logits = eval_preds.predictions\n",
    "        labels = eval_preds.label_ids\n",
    "        preds = np.argmax(logits, axis=-1)  \n",
    "        \n",
    "        metrics_data.update(accuracy_metric.compute(predictions=preds, references=labels))\n",
    "        metrics_data.update(precision_metric.compute(predictions=preds, references=labels))\n",
    "        metrics_data.update(recall_metric.compute(predictions=preds, references=labels))\n",
    "        metrics_data.update(f1_metric.compute(predictions=preds, references=labels))\n",
    "        return metrics_data"
   ]
  },
  {
   "cell_type": "code",
   "execution_count": 6,
   "metadata": {},
   "outputs": [],
   "source": [
    "def compute_interval(measure, n):\n",
    "    confidence_level = 0.95\n",
    "    z_score = -1 * scipy.stats.norm.ppf((1-confidence_level)/2)\n",
    "    standard_error = np.sqrt(measure * (1-measure) / n)\n",
    "    return z_score*standard_error\n",
    "def print_detail(eval, n):\n",
    "    print(\"Accuracy:\", eval[\"eval_accuracy\"], \"+/-\", compute_interval(eval[\"eval_accuracy\"], n) )\n",
    "    print(\"Recall:\", eval[\"eval_recall\"], \"+/-\", compute_interval(eval[\"eval_recall\"], n) )\n",
    "    print(\"Precision:\", eval[\"eval_precision\"], \"+/-\", compute_interval(eval[\"eval_precision\"], n) )\n",
    "    print(\"F1:\", eval[\"eval_f1\"], \"+/-\", compute_interval(eval[\"eval_f1\"], n) )\n",
    "def get_confusion(ds, trainer):\n",
    "    y_trues = ds.getlabels()\n",
    "    predictions = torch.from_numpy(trainer.predict(ds).predictions).float()\n",
    "    y_preds = torch.argmax(F.softmax(predictions), axis=-1).cpu().detach().numpy()\n",
    "    confusion_matrix = metrics.confusion_matrix(y_trues, y_preds, labels=[0, 1]) # NMOS, MOS\n",
    "    df = ds.getDataFrame()\n",
    "    df[\"pred\"] = y_preds\n",
    "    df[\"pred_label\"] = df[\"pred\"].apply(lambda x: \"MOS\" if x == 1 else \"NMOS\")\n",
    "    disagree = df[df.label != df.pred_label]\n",
    "    disagree_group = disagree.groupby(\"adjudicator_id\").count()[\"label\"]\n",
    "    return confusion_matrix, disagree_group"
   ]
  },
  {
   "attachments": {},
   "cell_type": "markdown",
   "metadata": {},
   "source": [
    "BERT"
   ]
  },
  {
   "cell_type": "code",
   "execution_count": 5,
   "metadata": {},
   "outputs": [],
   "source": [
    "model_name = \"bert-base-uncased\"\n",
    "def model_init():\n",
    "        model = AutoModelForSequenceClassification.from_pretrained(model_name,num_labels=2)\n",
    "        if model_name == \"distilgpt2\":\n",
    "            model.config.pad_token_id = model.config.eos_token_id # use this if the model is GPT\n",
    "        return model\n",
    "\n",
    "tokenizer = AutoTokenizer.from_pretrained(model_name)\n",
    "if model_name == \"distilgpt2\" :\n",
    "    tokenizer.pad_token = tokenizer.eos_token # use this if the model is GPT\n",
    "\n",
    "test_ds = TrainDataset(\"test.tsv\", tokenizer=tokenizer)"
   ]
  },
  {
   "cell_type": "code",
   "execution_count": 9,
   "metadata": {},
   "outputs": [],
   "source": [
    "def evaluate_model(model_name, model_file):\n",
    "    set_verbosity_error()\n",
    "    task_evaluator = evaluator(\"text-classification\")\n",
    "    train_model = AutoModelForSequenceClassification.from_pretrained(model_file)\n",
    "    trainer = Trainer(model=train_model, compute_metrics=compute_metrics_fn)\n",
    "    eval = trainer.evaluate(test_ds)\n",
    "    confusion, disagree_group = get_confusion(test_ds, trainer)\n",
    "    return eval, confusion, disagree_group"
   ]
  },
  {
   "cell_type": "code",
   "execution_count": null,
   "metadata": {},
   "outputs": [],
   "source": [
    "eval, confusion, disagree_group = evaluate_model(\"bert-base-uncased\", \"bert-base-uncased-lr5.315e-05-bs8-ep3-wd0.3\")"
   ]
  },
  {
   "cell_type": "code",
   "execution_count": 11,
   "metadata": {},
   "outputs": [
    {
     "name": "stdout",
     "output_type": "stream",
     "text": [
      "Accuracy: 0.86 +/- 0.048089065389731414\n",
      "Recall: 0.7654320987654321 +/- 0.05872468819664677\n",
      "Precision: 0.8732394366197183 +/- 0.046109651938954\n",
      "F1: 0.8157894736842104 +/- 0.05372536361537872\n"
     ]
    }
   ],
   "source": [
    "print_detail(eval, len(test_ds))"
   ]
  },
  {
   "cell_type": "code",
   "execution_count": 15,
   "metadata": {},
   "outputs": [
    {
     "data": {
      "image/png": "[encoded data removed]",
      "text/plain": [
       "<Figure size 400x400 with 1 Axes>"
      ]
     },
     "metadata": {},
     "output_type": "display_data"
    }
   ],
   "source": [
    "from mlxtend.plotting import plot_confusion_matrix\n",
    "\n",
    "plot_confusion_matrix(conf_mat=confusion, figsize=(4, 4), cmap=plt.cm.Greens)\n",
    "plt.xlabel('Predictions', fontsize=12)\n",
    "plt.ylabel('Actuals', fontsize=12)\n",
    "plt.title('Confusion Matrix', fontsize=12)\n",
    "plt.show()"
   ]
  },
  {
   "attachments": {},
   "cell_type": "markdown",
   "metadata": {},
   "source": [
    "RoBERTa"
   ]
  },
  {
   "cell_type": "code",
   "execution_count": null,
   "metadata": {},
   "outputs": [],
   "source": [
    "model_name = \"roberta-base\"\n",
    "def model_init():\n",
    "        model = AutoModelForSequenceClassification.from_pretrained(model_name,num_labels=2)\n",
    "        if model_name == \"distilgpt2\":\n",
    "            model.config.pad_token_id = model.config.eos_token_id # use this if the model is GPT\n",
    "        return model\n",
    "\n",
    "tokenizer = AutoTokenizer.from_pretrained(model_name)\n",
    "if model_name == \"distilgpt2\" :\n",
    "    tokenizer.pad_token = tokenizer.eos_token # use this if the model is GPT\n",
    "\n",
    "test_ds = TrainDataset(\"test.tsv\", tokenizer=tokenizer)"
   ]
  },
  {
   "cell_type": "code",
   "execution_count": null,
   "metadata": {},
   "outputs": [],
   "source": [
    "eval, confusion, disagree_group = evaluate_model(\"roberta-base\", \"roberta-base-lr2.068e-05-bs8-ep3-wd0.2\")"
   ]
  },
  {
   "cell_type": "code",
   "execution_count": 23,
   "metadata": {},
   "outputs": [
    {
     "name": "stdout",
     "output_type": "stream",
     "text": [
      "Accuracy: 0.855 +/- 0.04879778977041656\n",
      "Recall: 0.8148148148148148 +/- 0.05383511828484421\n",
      "Precision: 0.825 +/- 0.05265978623379108\n",
      "F1: 0.8198757763975155 +/- 0.053259021327903194\n"
     ]
    }
   ],
   "source": [
    "print_detail(eval, len(test_ds))"
   ]
  },
  {
   "cell_type": "code",
   "execution_count": 24,
   "metadata": {},
   "outputs": [
    {
     "data": {
      "image/png": "[encoded data removed]",
      "text/plain": [
       "<Figure size 400x400 with 1 Axes>"
      ]
     },
     "metadata": {},
     "output_type": "display_data"
    }
   ],
   "source": [
    "plot_confusion_matrix(conf_mat=confusion, figsize=(4, 4), cmap=plt.cm.Greens)\n",
    "plt.xlabel('Predictions', fontsize=12)\n",
    "plt.ylabel('Actuals', fontsize=12)\n",
    "plt.title('Confusion Matrix', fontsize=12)\n",
    "plt.show()"
   ]
  },
  {
   "attachments": {},
   "cell_type": "markdown",
   "metadata": {},
   "source": [
    "DistilGPT2"
   ]
  },
  {
   "cell_type": "code",
   "execution_count": null,
   "metadata": {},
   "outputs": [],
   "source": [
    "model_name = \"distilgpt2\"\n",
    "def model_init():\n",
    "        model = AutoModelForSequenceClassification.from_pretrained(model_name,num_labels=2)\n",
    "        if model_name == \"distilgpt2\":\n",
    "            model.config.pad_token_id = model.config.eos_token_id # use this if the model is GPT\n",
    "        return model\n",
    "\n",
    "tokenizer = AutoTokenizer.from_pretrained(model_name)\n",
    "if model_name == \"distilgpt2\" :\n",
    "    tokenizer.pad_token = tokenizer.eos_token # use this if the model is GPT\n",
    "\n",
    "test_ds = TrainDataset(\"test.tsv\", tokenizer=tokenizer)"
   ]
  },
  {
   "cell_type": "code",
   "execution_count": null,
   "metadata": {},
   "outputs": [],
   "source": [
    "eval, confusion, disagree_group = evaluate_model(\"distilgpt2\", \"distilgpt2-lr7.034e-05-bs8-ep4-wd0.4\")"
   ]
  },
  {
   "cell_type": "code",
   "execution_count": 27,
   "metadata": {},
   "outputs": [
    {
     "name": "stdout",
     "output_type": "stream",
     "text": [
      "Accuracy: 0.845 +/- 0.05015650850290584\n",
      "Recall: 0.7654320987654321 +/- 0.05872468819664677\n",
      "Precision: 0.8378378378378378 +/- 0.05108434640818507\n",
      "F1: 0.8 +/- 0.055436152973987116\n"
     ]
    }
   ],
   "source": [
    "print_detail(eval, len(test_ds))"
   ]
  },
  {
   "cell_type": "code",
   "execution_count": 28,
   "metadata": {},
   "outputs": [
    {
     "data": {
      "image/png": "[encoded data removed]",
      "text/plain": [
       "<Figure size 400x400 with 1 Axes>"
      ]
     },
     "metadata": {},
     "output_type": "display_data"
    }
   ],
   "source": [
    "plot_confusion_matrix(conf_mat=confusion, figsize=(4, 4), cmap=plt.cm.Greens)\n",
    "plt.xlabel('Predictions', fontsize=12)\n",
    "plt.ylabel('Actuals', fontsize=12)\n",
    "plt.title('Confusion Matrix', fontsize=12)\n",
    "plt.show()"
   ]
  }
 ],
 "metadata": {
  "kernelspec": {
   "display_name": "Python 3",
   "language": "python",
   "name": "python3"
  },
  "language_info": {
   "codemirror_mode": {
    "name": "ipython",
    "version": 3
   },
   "file_extension": ".py",
   "mimetype": "text/x-python",
   "name": "python",
   "nbconvert_exporter": "python",
   "pygments_lexer": "ipython3",
   "version": "3.10.6"
  },
  "orig_nbformat": 4,
  "vscode": {
   "interpreter": {
    "hash": "916dbcbb3f70747c44a77c7bcd40155683ae19c65e1c03b4aa3499c5328201f1"
   }
  }
 },
 "nbformat": 4,
 "nbformat_minor": 2
}
