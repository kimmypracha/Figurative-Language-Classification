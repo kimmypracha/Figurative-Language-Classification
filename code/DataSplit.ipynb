{
  "nbformat": 4,
  "nbformat_minor": 0,
  "metadata": {
    "colab": {
      "provenance": []
    },
    "kernelspec": {
      "name": "python3",
      "display_name": "Python 3"
    },
    "language_info": {
      "name": "python"
    }
  },
  "cells": [
    {
      "cell_type": "code",
      "execution_count": null,
      "metadata": {
        "id": "KoTg-lPcL3ar"
      },
      "outputs": [],
      "source": [
        "import numpy as np\n",
        "from sklearn.model_selection import StratifiedShuffleSplit, train_test_split\n",
        "\n",
        "def split_dataset(whole_df):\n",
        "  y = whole_df[\"label\"]\n",
        "  X = whole_df[[\"doc_id\", \"adjudicator_id\", \"text\"]]\n",
        "  X_train_test, X_validate, y_train_test, y_validate = train_test_split(X, y, stratify=y, test_size=0.2, random_state=11)\n",
        "  X_train, X_test, y_train, y_test = train_test_split(X_train_test, y_train_test, stratify=y_train_test, test_size=0.25, random_state=11)\n",
        "  return (X_train, y_train), (X_validate, y_validate), (X_test, y_test)"
      ]
    },
    {
      "cell_type": "code",
      "source": [
        "import pandas as pd\n",
        "\n",
        "df = pd.read_csv(\"/content/adjudicated.tsv\", sep=\"\\t\")\n",
        "train, validate, test = split_dataset(df)"
      ],
      "metadata": {
        "id": "0KTWrE5SR9KY"
      },
      "execution_count": null,
      "outputs": []
    },
    {
      "cell_type": "code",
      "source": [
        "print(\"# of train document = \", train[1].shape[0])\n",
        "print(\"# of validate document = \", validate[1].shape[0])\n",
        "print(\"# of test document = \", test[1].shape[0])"
      ],
      "metadata": {
        "colab": {
          "base_uri": "https://localhost:8080/"
        },
        "id": "zfmarP6fT8rP",
        "outputId": "406bed0a-dad4-4327-dc9b-bebe01222845"
      },
      "execution_count": null,
      "outputs": [
        {
          "output_type": "stream",
          "name": "stdout",
          "text": [
            "# of train document =  600\n",
            "# of validate document =  201\n",
            "# of test document =  200\n"
          ]
        }
      ]
    },
    {
      "cell_type": "code",
      "source": [
        "from collections import Counter\n",
        "print(\"train documents' label count : \", Counter(train[1]))\n",
        "print(\"validate documents' label count : \", Counter(validate[1]))\n",
        "print(\"test documents' label count : \", Counter(test[1]))"
      ],
      "metadata": {
        "colab": {
          "base_uri": "https://localhost:8080/"
        },
        "id": "_pOG8TeXTdn_",
        "outputId": "5756d417-864f-485d-c17a-b2d150f0fc92"
      },
      "execution_count": null,
      "outputs": [
        {
          "output_type": "stream",
          "name": "stdout",
          "text": [
            "train documents' label count :  Counter({'NMOS': 357, 'MOS': 243})\n",
            "validate documents' label count :  Counter({'NMOS': 119, 'MOS': 82})\n",
            "test documents' label count :  Counter({'NMOS': 119, 'MOS': 81})\n"
          ]
        }
      ]
    }
  ]
}